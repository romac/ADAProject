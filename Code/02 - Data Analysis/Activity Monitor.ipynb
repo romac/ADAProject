{
 "cells": [
  {
   "cell_type": "markdown",
   "metadata": {},
   "source": [
    "# GITHUB ACTIVITY MONITOR\n",
    "\n",
    "Here we will compare your stats to the rest of Github Switzerland. See how you compare !"
   ]
  },
  {
   "cell_type": "code",
   "execution_count": 270,
   "metadata": {
    "collapsed": true
   },
   "outputs": [],
   "source": [
    "YOUR_USERNAME = \"dtsbourg\""
   ]
  },
  {
   "cell_type": "code",
   "execution_count": 271,
   "metadata": {
    "collapsed": true
   },
   "outputs": [],
   "source": [
    "SETTINGS = {\n",
    "    't_test' : True\n",
    "}"
   ]
  },
  {
   "cell_type": "code",
   "execution_count": 272,
   "metadata": {
    "collapsed": true
   },
   "outputs": [],
   "source": [
    "# Connecting to DB\n",
    "from utils import get_mongo_db\n",
    "\n",
    "import pickle\n",
    "\n",
    "import numpy as np\n",
    "import pandas as pd\n",
    "# Import stats lib for t-test\n",
    "from scipy import stats\n",
    "\n",
    "%matplotlib inline"
   ]
  },
  {
   "cell_type": "code",
   "execution_count": 273,
   "metadata": {
    "collapsed": false
   },
   "outputs": [
    {
     "name": "stdout",
     "output_type": "stream",
     "text": [
      "Connecting to MongoDB at localhost:27017...\n"
     ]
    }
   ],
   "source": [
    "db = get_mongo_db()"
   ]
  },
  {
   "cell_type": "code",
   "execution_count": 274,
   "metadata": {
    "collapsed": false
   },
   "outputs": [
    {
     "name": "stdout",
     "output_type": "stream",
     "text": [
      "=> Hey Dylan Bourgeois !\n"
     ]
    }
   ],
   "source": [
    "# Get user from DB\n",
    "usr = db.users.find_one({ 'login' : YOUR_USERNAME })\n",
    "\n",
    "if usr is None:\n",
    "    print(\"[ERROR] Sorry we couldn't find you in our DB. Make you spelled your username correctly !\")\n",
    "else:\n",
    "    print(\"=> Hey \" + usr['name'] + \" !\")"
   ]
  },
  {
   "cell_type": "code",
   "execution_count": 275,
   "metadata": {
    "collapsed": false
   },
   "outputs": [
    {
     "name": "stdout",
     "output_type": "stream",
     "text": [
      "Our dataset includes 5976 users.\n"
     ]
    }
   ],
   "source": [
    "# Get users from DB\n",
    "res = db.users.find({ 'in_ch': True, 'repositories': { '$ne': None } })\n",
    "\n",
    "users = []\n",
    "\n",
    "# For each user, find his repositories\n",
    "for user in res:\n",
    "    repos = db.repositories.find(\n",
    "        { '_id': { '$in': user['repositories'] } }\n",
    "    )\n",
    "    \n",
    "    stars = 0\n",
    "    for repo in repos:\n",
    "        stars = stars + repo['stargazers_count']\n",
    "    \n",
    "    starred = user.get('starred', [])\n",
    "    following = user.get('following', [])\n",
    "    followers = user.get('followers', [])\n",
    "    organizations = user.get('organizations', [])\n",
    "    gists = user.get('gists', [])\n",
    "    repositories = user.get('repositories', [])\n",
    "    \n",
    "    users.append({\n",
    "        '_id': user['_id'],\n",
    "        'login': user['login'],\n",
    "        'name': user['name'],\n",
    "        'location': user['location'],\n",
    "        'repositories_docs': list(repos),\n",
    "        'followers' : len(followers),\n",
    "        'starred' : len(starred),\n",
    "        'following' : len(following),\n",
    "        'orgs' : len(organizations),\n",
    "        'gists' : len(gists),\n",
    "        'repos' : len(repositories),\n",
    "        'stars' : stars\n",
    "    })\n",
    "    \n",
    "print(\"Our dataset includes {} users.\".format(len(users)))\n",
    "\n",
    "all_users = pd.DataFrame(users)"
   ]
  },
  {
   "cell_type": "code",
   "execution_count": 276,
   "metadata": {
    "collapsed": false
   },
   "outputs": [],
   "source": [
    "current_user = all_users.loc[all_users['_id'] == usr['_id']]\n",
    "rest_of_users = all_users[all_users['_id'] != usr['_id']]\n"
   ]
  },
  {
   "cell_type": "code",
   "execution_count": 277,
   "metadata": {
    "collapsed": true
   },
   "outputs": [],
   "source": [
    "rest_of_users_stats = {}"
   ]
  },
  {
   "cell_type": "markdown",
   "metadata": {},
   "source": [
    "## Personal metrics\n",
    "\n",
    "### Number of repos starred\n",
    "\n",
    "Here we will compare the number of repositories you starred compared to the rest of the swiss population."
   ]
  },
  {
   "cell_type": "code",
   "execution_count": 278,
   "metadata": {
    "collapsed": false
   },
   "outputs": [
    {
     "name": "stdout",
     "output_type": "stream",
     "text": [
      "On average, swiss users of Github have starred 43 repositories.\n",
      "You have starred 577 repositories.\n",
      "You have starred more repositories than the average !\n",
      " => DELTA = 534\n",
      "The results is statistically significant ! (95% confidence level)\n"
     ]
    }
   ],
   "source": [
    "mean_starred = int(rest_of_users['starred'].mean())\n",
    "std_starred = rest_of_users['starred'].std()\n",
    "rest_of_users_stats['starred'] = mean_starred\n",
    "\n",
    "\n",
    "print(\"On average, swiss users of Github have starred {} repositories.\".format(mean_starred))\n",
    "\n",
    "print(\"You have starred {} repositories.\".format(int(current_user['starred'])))\n",
    "\n",
    "if int(current_user['starred']) > rest_of_users['starred'].mean():\n",
    "    print(\"You have starred more repositories than the average !\")\n",
    "else: \n",
    "    print(\"You have starred less repositories than the average\")\n",
    "    \n",
    "print(\" => DELTA = {}\".format(int(current_user['starred']) - mean_starred))\n",
    "\n",
    "if SETTINGS['t_test'] is True:\n",
    "    (t_statistic, p_value) = stats.ttest_1samp(rest_of_users['starred'], np.mean(current_user['starred']))\n",
    "    if abs(t_statistic) > 6.31:\n",
    "        print(\"The results is statistically significant ! (95% confidence level)\")\n",
    "    else:\n",
    "        print(\"The result is not provable to be statistically significant, with a t-value = {} and p-value = {}\".format(t_statistic, p_value))"
   ]
  },
  {
   "cell_type": "markdown",
   "metadata": {},
   "source": [
    "### Number of organisations\n"
   ]
  },
  {
   "cell_type": "code",
   "execution_count": 249,
   "metadata": {
    "collapsed": false
   },
   "outputs": [
    {
     "name": "stdout",
     "output_type": "stream",
     "text": [
      "On average, swiss users of Github are part of 0.4031799163179916 organizations (± 1.03080600893341).\n",
      "You are part of 1 organization(s).\n",
      "You are part of more organizations than the average !\n",
      " => DELTA = 0.5968200836820083\n",
      "The results is statistically significant ! (95% confidence level)\n"
     ]
    }
   ],
   "source": [
    "mean_orgs = rest_of_users['orgs'].mean()\n",
    "std_orgs = rest_of_users['orgs'].std()\n",
    "rest_of_users_stats['orgs'] = mean_orgs\n",
    "\n",
    "print(\"On average, swiss users of Github are part of {} organizations (± {}).\".format(mean_orgs, std_orgs))\n",
    "\n",
    "print(\"You are part of {} organization(s).\".format(int(current_user['orgs'])))\n",
    "\n",
    "if int(current_user['orgs']) > mean_orgs:\n",
    "    print(\"You are part of more organizations than the average !\")\n",
    "else: \n",
    "    print(\"You are part of less organizations than the average\")\n",
    "    \n",
    "print(\" => DELTA = {}\".format(int(current_user['orgs']) - mean_orgs))\n",
    "\n",
    "if SETTINGS['t_test'] is True:\n",
    "    (t_statistic, p_value) = stats.ttest_1samp(rest_of_users['orgs'], np.mean(current_user['orgs']))\n",
    "    if abs(t_statistic) > 6.31:\n",
    "        print(\"The results is statistically significant ! (95% confidence level)\")\n",
    "    else:\n",
    "        print(\"The result is not provable to be statistically significant, with a t-value = {} and p-value = {}\".format(t_statistic, p_value))"
   ]
  },
  {
   "cell_type": "markdown",
   "metadata": {},
   "source": [
    "### Number of gists "
   ]
  },
  {
   "cell_type": "code",
   "execution_count": 250,
   "metadata": {
    "collapsed": false
   },
   "outputs": [
    {
     "name": "stdout",
     "output_type": "stream",
     "text": [
      "On average, swiss users of Github have created 3.2589121338912133 gists (± 12.14863356282222).\n",
      "You have created 4 gist(s).\n",
      "You have created more gists than the average !\n",
      " => DELTA = 0.7410878661087867\n",
      "The result is not provable to be statistically significant at 95% confidence, with a t-value = -4.715320583024203 and p-value = 2.4681299834357995e-06\n"
     ]
    }
   ],
   "source": [
    "mean_gists = rest_of_users['gists'].mean()\n",
    "std_gists = rest_of_users['gists'].std()\n",
    "rest_of_users_stats['gists'] = mean_gists\n",
    "\n",
    "print(\"On average, swiss users of Github have created {} gists (± {}).\".format(mean_gists, std_gists))\n",
    "\n",
    "print(\"You have created {} gist(s).\".format(int(current_user['gists'])))\n",
    "\n",
    "\n",
    "if int(current_user['gists']) > mean_gists:\n",
    "    print(\"You have created more gists than the average !\")\n",
    "else: \n",
    "    print(\"You have created less gists than the average\")\n",
    "    \n",
    "print(\" => DELTA = {}\".format(int(current_user['gists']) - mean_gists))\n",
    "\n",
    "if SETTINGS['t_test'] is True:\n",
    "    (t_statistic, p_value) = stats.ttest_1samp(rest_of_users['gists'], np.mean(current_user['gists']))\n",
    "    if abs(t_statistic) > 6.31:\n",
    "        print(\"The results is statistically significant ! (95% confidence level)\")\n",
    "    else:\n",
    "        print(\"The result is not provable to be statistically significant at 95% confidence, with a t-value = {} and p-value = {}\".format(t_statistic, p_value))"
   ]
  },
  {
   "cell_type": "markdown",
   "metadata": {},
   "source": [
    "### Number of repos\n"
   ]
  },
  {
   "cell_type": "code",
   "execution_count": 251,
   "metadata": {
    "collapsed": false
   },
   "outputs": [
    {
     "name": "stdout",
     "output_type": "stream",
     "text": [
      "On average, swiss users of Github have created 16.537907949790796 repositories (± 35.619269610249766).\n",
      "You have created 48 repositories.\n",
      "You have created more repositories than the average !\n",
      " => DELTA = 31.462092050209204\n",
      "The result is statistically significant ! (95% confidence level)\n"
     ]
    }
   ],
   "source": [
    "mean_repos = rest_of_users['repos'].mean()\n",
    "std_repos = rest_of_users['repos'].std()\n",
    "rest_of_users_stats['repos'] = mean_repos\n",
    "\n",
    "print(\"On average, swiss users of Github have created {} repositories (± {}).\".format(mean_repos, std_repos))\n",
    "\n",
    "print(\"You have created {} repositories.\".format(int(current_user['repos'])))\n",
    "\n",
    "if int(current_user['repos']) > mean_repos:\n",
    "    print(\"You have created more repositories than the average !\")\n",
    "else: \n",
    "    print(\"You have created less repositories than the average\")\n",
    "    \n",
    "print(\" => DELTA = {}\".format(int(current_user['repos']) - mean_repos))\n",
    "\n",
    "if SETTINGS['t_test'] is True:\n",
    "    (t_statistic, p_value) = stats.ttest_1samp(rest_of_users['repos'], np.mean(current_user['repos']))\n",
    "    if abs(t_statistic) > 6.31:\n",
    "        print(\"The result is statistically significant ! (95% confidence level)\")\n",
    "    else:\n",
    "        print(\"The result is not provable to be statistically significant at 95% confidence, with a t-value = {} and p-value = {}\".format(t_statistic, p_value))"
   ]
  },
  {
   "cell_type": "markdown",
   "metadata": {},
   "source": [
    "## Social metrics\n",
    "\n",
    "### Number of followers\n",
    "\n"
   ]
  },
  {
   "cell_type": "code",
   "execution_count": 253,
   "metadata": {
    "collapsed": false
   },
   "outputs": [
    {
     "name": "stdout",
     "output_type": "stream",
     "text": [
      "On average, swiss users of Github have 13.48234309623431 followers (± 106.37069830637287).\n",
      "You have got 16 followers.\n",
      "You have more followers than the average !\n",
      " => DELTA = 2.5176569037656904\n",
      "The result is not provable to be statistically significant at 95% confidence, with a t-value = -1.8295466614400677 and p-value = 0.06736756827246672\n"
     ]
    }
   ],
   "source": [
    "mean_followers = rest_of_users['followers'].mean()\n",
    "std_followers = rest_of_users['followers'].std()\n",
    "rest_of_users_stats['followers'] = mean_followers\n",
    "\n",
    "print(\"On average, swiss users of Github have {} followers (± {}).\".format(mean_followers, std_followers))\n",
    "\n",
    "print(\"You have got {} followers.\".format(int(current_user['followers'])))\n",
    "\n",
    "if int(current_user['followers']) > mean_followers:\n",
    "    print(\"You have more followers than the average !\")\n",
    "else: \n",
    "    print(\"You have less followers than the average.\")\n",
    "    \n",
    "print(\" => DELTA = {}\".format(int(current_user['followers']) - mean_followers))\n",
    "\n",
    "if SETTINGS['t_test'] is True:\n",
    "    (t_statistic, p_value) = stats.ttest_1samp(rest_of_users['followers'], np.mean(current_user['followers']))\n",
    "    if abs(t_statistic) > 6.31:\n",
    "        print(\"The result is statistically significant ! (95% confidence level)\")\n",
    "    else:\n",
    "        print(\"The result is not provable to be statistically significant at 95% confidence, with a t-value = {} and p-value = {}\".format(t_statistic, p_value))"
   ]
  },
  {
   "cell_type": "markdown",
   "metadata": {},
   "source": [
    "### Number of stars on your repos\n"
   ]
  },
  {
   "cell_type": "code",
   "execution_count": 254,
   "metadata": {
    "collapsed": false
   },
   "outputs": [
    {
     "name": "stdout",
     "output_type": "stream",
     "text": [
      "On average, swiss users of Github have 74.0528870292887 accumulated stars (± 1058.8088443844222).\n",
      "You have got 10 accumulated stars.\n",
      "You have less stars than the average.\n",
      " => DELTA = -64.0528870292887\n",
      "The result is not provable to be statistically significant at 95% confidence, with a t-value = 4.676167979907855 and p-value = 2.9871417526811725e-06\n"
     ]
    }
   ],
   "source": [
    "mean_stars = rest_of_users['stars'].mean()\n",
    "std_stars = rest_of_users['stars'].std()\n",
    "rest_of_users_stats['stars'] = mean_stars\n",
    "\n",
    "print(\"On average, swiss users of Github have {} accumulated stars (± {}).\".format(mean_stars, std_stars))\n",
    "\n",
    "print(\"You have got {} accumulated stars.\".format(int(current_user['stars'])))\n",
    "\n",
    "if int(current_user['stars']) > mean_stars:\n",
    "    print(\"You have more stars than the average !\")\n",
    "else: \n",
    "    print(\"You have less stars than the average.\")\n",
    "    \n",
    "print(\" => DELTA = {}\".format(int(current_user['stars']) - mean_stars))\n",
    "\n",
    "if SETTINGS['t_test'] is True:\n",
    "    (t_statistic, p_value) = stats.ttest_1samp(rest_of_users['stars'], np.mean(current_user['stars']))\n",
    "    if abs(t_statistic) > 6.31:\n",
    "        print(\"The result is statistically significant ! (95% confidence level)\")\n",
    "    else:\n",
    "        print(\"The result is not provable to be statistically significant at 95% confidence, with a t-value = {} and p-value = {}\".format(t_statistic, p_value))"
   ]
  },
  {
   "cell_type": "markdown",
   "metadata": {},
   "source": [
    "## Graphical representation"
   ]
  },
  {
   "cell_type": "code",
   "execution_count": 261,
   "metadata": {
    "collapsed": false
   },
   "outputs": [],
   "source": [
    "user_stats = {\n",
    "    'gists' : int(current_user['gists']),\n",
    "    'orgs' : int(current_user['orgs']),\n",
    "    'repos' : int(current_user['repos']),\n",
    "    'starred' : int(current_user['starred']),\n",
    "    'followers' : int(current_user['followers']),\n",
    "    'stars' : int(current_user['stars'])\n",
    "}\n",
    "statistics = { 'rest' : rest_of_users_stats, 'user' : user_stats }"
   ]
  },
  {
   "cell_type": "code",
   "execution_count": 268,
   "metadata": {
    "collapsed": false
   },
   "outputs": [
    {
     "data": {
      "text/html": [
       "<div>\n",
       "<table border=\"1\" class=\"dataframe\">\n",
       "  <thead>\n",
       "    <tr style=\"text-align: right;\">\n",
       "      <th></th>\n",
       "      <th>rest</th>\n",
       "      <th>user</th>\n",
       "    </tr>\n",
       "  </thead>\n",
       "  <tbody>\n",
       "    <tr>\n",
       "      <th>followers</th>\n",
       "      <td>13.482343</td>\n",
       "      <td>16</td>\n",
       "    </tr>\n",
       "    <tr>\n",
       "      <th>gists</th>\n",
       "      <td>3.258912</td>\n",
       "      <td>4</td>\n",
       "    </tr>\n",
       "    <tr>\n",
       "      <th>orgs</th>\n",
       "      <td>0.403180</td>\n",
       "      <td>1</td>\n",
       "    </tr>\n",
       "    <tr>\n",
       "      <th>repos</th>\n",
       "      <td>16.537908</td>\n",
       "      <td>48</td>\n",
       "    </tr>\n",
       "    <tr>\n",
       "      <th>starred</th>\n",
       "      <td>43.000000</td>\n",
       "      <td>577</td>\n",
       "    </tr>\n",
       "    <tr>\n",
       "      <th>stars</th>\n",
       "      <td>74.052887</td>\n",
       "      <td>10</td>\n",
       "    </tr>\n",
       "  </tbody>\n",
       "</table>\n",
       "</div>"
      ],
      "text/plain": [
       "                rest  user\n",
       "followers  13.482343    16\n",
       "gists       3.258912     4\n",
       "orgs        0.403180     1\n",
       "repos      16.537908    48\n",
       "starred    43.000000   577\n",
       "stars      74.052887    10"
      ]
     },
     "execution_count": 268,
     "metadata": {},
     "output_type": "execute_result"
    }
   ],
   "source": [
    "statistics_df = pd.DataFrame(statistics)\n",
    "statistics_df"
   ]
  },
  {
   "cell_type": "code",
   "execution_count": 269,
   "metadata": {
    "collapsed": false
   },
   "outputs": [
    {
     "data": {
      "text/plain": [
       "<matplotlib.axes._subplots.AxesSubplot at 0x12e91ff28>"
      ]
     },
     "execution_count": 269,
     "metadata": {},
     "output_type": "execute_result"
    },
    {
     "data": {
      "image/png": "[encoded data removed]",
      "text/plain": [
       "<matplotlib.figure.Figure at 0x12e92a780>"
      ]
     },
     "metadata": {},
     "output_type": "display_data"
    }
   ],
   "source": [
    "statistics_df.plot(kind = 'bar')"
   ]
  },
  {
   "cell_type": "code",
   "execution_count": null,
   "metadata": {
    "collapsed": true
   },
   "outputs": [],
   "source": []
  }
 ],
 "metadata": {
  "anaconda-cloud": {},
  "kernelspec": {
   "display_name": "Python [default]",
   "language": "python",
   "name": "python3"
  },
  "language_info": {
   "codemirror_mode": {
    "name": "ipython",
    "version": 3
   },
   "file_extension": ".py",
   "mimetype": "text/x-python",
   "name": "python",
   "nbconvert_exporter": "python",
   "pygments_lexer": "ipython3",
   "version": "3.5.2"
  }
 },
 "nbformat": 4,
 "nbformat_minor": 1
}
