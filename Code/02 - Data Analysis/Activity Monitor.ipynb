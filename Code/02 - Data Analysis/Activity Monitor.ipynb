{
 "cells": [
  {
   "cell_type": "markdown",
   "metadata": {},
   "source": [
    "# GITHUB ACTIVITY MONITOR\n",
    "\n",
    "Here we will compare your stats to the rest of Github Switzerland. See how you compare !"
   ]
  },
  {
   "cell_type": "code",
   "execution_count": 66,
   "metadata": {
    "collapsed": true
   },
   "outputs": [],
   "source": [
    "YOUR_USERNAME = \"dtsbourg\""
   ]
  },
  {
   "cell_type": "code",
   "execution_count": 67,
   "metadata": {
    "collapsed": true
   },
   "outputs": [],
   "source": [
    "SETTINGS = {\n",
    "    't_test' : True\n",
    "}"
   ]
  },
  {
   "cell_type": "code",
   "execution_count": 49,
   "metadata": {
    "collapsed": true
   },
   "outputs": [],
   "source": [
    "# Connecting to DB\n",
    "from utils import get_mongo_db\n",
    "\n",
    "import pickle\n",
    "\n",
    "import numpy as np\n",
    "import pandas as pd\n",
    "# Import stats lib for t-test\n",
    "from scipy import stats"
   ]
  },
  {
   "cell_type": "code",
   "execution_count": 9,
   "metadata": {
    "collapsed": false
   },
   "outputs": [
    {
     "name": "stdout",
     "output_type": "stream",
     "text": [
      "Connecting to MongoDB at localhost:27017...\n"
     ]
    }
   ],
   "source": [
    "db = get_mongo_db()"
   ]
  },
  {
   "cell_type": "code",
   "execution_count": 55,
   "metadata": {
    "collapsed": false
   },
   "outputs": [
    {
     "name": "stdout",
     "output_type": "stream",
     "text": [
      "=> Hey Dylan Bourgeois !\n"
     ]
    }
   ],
   "source": [
    "# Get user from DB\n",
    "usr = db.users.find_one({ 'login' : YOUR_USERNAME })\n",
    "\n",
    "if usr is None:\n",
    "    print(\"[ERROR] Sorry we couldn't find you in our DB. Make you spelled your username correctly !\")\n",
    "else:\n",
    "    print(\"=> Hey \" + usr['name'] + \" !\")"
   ]
  },
  {
   "cell_type": "code",
   "execution_count": 56,
   "metadata": {
    "collapsed": false
   },
   "outputs": [
    {
     "name": "stdout",
     "output_type": "stream",
     "text": [
      "Our dataset includes 5976 users.\n"
     ]
    }
   ],
   "source": [
    "# Get users from DB\n",
    "res = db.users.find({ 'in_ch': True, 'repositories': { '$ne': None } })\n",
    "\n",
    "users = []\n",
    "\n",
    "# For each user, find his repositories\n",
    "for user in res:\n",
    "    repos = db.repositories.find(\n",
    "        { '_id': { '$in': user['repositories'] } }\n",
    "    )\n",
    "    \n",
    "    starred = user.get('starred', [])\n",
    "    following = user.get('following', [])\n",
    "    followers = user.get('followers', [])\n",
    "    \n",
    "    users.append({\n",
    "        '_id': user['_id'],\n",
    "        'login': user['login'],\n",
    "        'name': user['name'],\n",
    "        'location': user['location'],\n",
    "        'repositories_docs': list(repos),\n",
    "        'followers' : len(followers),\n",
    "        'starred' : len(starred),\n",
    "        'following' : len(following)\n",
    "    })\n",
    "    \n",
    "print(\"Our dataset includes {} users.\".format(len(users)))\n",
    "\n",
    "all_users = pd.DataFrame(users)"
   ]
  },
  {
   "cell_type": "code",
   "execution_count": 57,
   "metadata": {
    "collapsed": false
   },
   "outputs": [],
   "source": [
    "current_user = all_users.loc[all_users['_id'] == usr['_id']]\n",
    "rest_of_users = all_users[all_users['_id'] != usr['_id']]"
   ]
  },
  {
   "cell_type": "markdown",
   "metadata": {},
   "source": [
    "## Personal metrics\n",
    "\n",
    "### Number of repos starred\n",
    "\n",
    "Here we will compare the number of repositories you starred compared to the rest of the swiss population."
   ]
  },
  {
   "cell_type": "code",
   "execution_count": 63,
   "metadata": {
    "collapsed": false
   },
   "outputs": [
    {
     "name": "stdout",
     "output_type": "stream",
     "text": [
      "On average, swiss users of Github have starred 43 repositories.\n"
     ]
    }
   ],
   "source": [
    "print(\"On average, swiss users of Github have starred {} repositories.\".format(int(rest_of_users['starred'].mean())))"
   ]
  },
  {
   "cell_type": "code",
   "execution_count": 65,
   "metadata": {
    "collapsed": false
   },
   "outputs": [
    {
     "name": "stdout",
     "output_type": "stream",
     "text": [
      "You have starred 577 repositories.\n"
     ]
    }
   ],
   "source": [
    "print(\"You have starred {} repositories.\".format(int(current_user['starred'])))"
   ]
  },
  {
   "cell_type": "code",
   "execution_count": 73,
   "metadata": {
    "collapsed": false
   },
   "outputs": [
    {
     "name": "stdout",
     "output_type": "stream",
     "text": [
      "The results is statistically significant ! (95% confidence level)\n"
     ]
    }
   ],
   "source": [
    "if SETTINGS['t_test'] is True:\n",
    "    (t_statistic, p_value) = stats.ttest_1samp(rest_of_users['starred'], np.mean(current_user['starred']))\n",
    "    if abs(t_statistic) > 6.31:\n",
    "        print(\"The results is statistically significant ! (95% confidence level)\")\n",
    "    else:\n",
    "        print(\"The result is not provable to be statistically significant, with a t-value = {}\".format(t_statistic, p_value))"
   ]
  },
  {
   "cell_type": "markdown",
   "metadata": {},
   "source": [
    "### Number of organisations\n",
    "\n",
    "### Number of gists \n",
    "\n",
    "### Number of repos\n",
    "\n",
    "\n",
    "## Social metrics\n",
    "\n",
    "### Number of followers\n",
    "\n",
    "### Number of stars on your repos\n",
    "\n",
    "### Most popular repo\n",
    "\n",
    "### How many people close to you ?"
   ]
  },
  {
   "cell_type": "code",
   "execution_count": 45,
   "metadata": {
    "collapsed": false
   },
   "outputs": [
    {
     "data": {
      "text/plain": [
       "(4.6761679799078548, 2.9871417526811725e-06)"
      ]
     },
     "execution_count": 45,
     "metadata": {},
     "output_type": "execute_result"
    }
   ],
   "source": [
    "(t_statistic, p_value) = stats.ttest_1samp(rest_of_users['star_count'], np.mean(current_user['star_count']))\n",
    "t_statistic, p_value"
   ]
  },
  {
   "cell_type": "markdown",
   "metadata": {},
   "source": [
    "## Follow graph"
   ]
  },
  {
   "cell_type": "code",
   "execution_count": null,
   "metadata": {
    "collapsed": true
   },
   "outputs": [],
   "source": []
  }
 ],
 "metadata": {
  "anaconda-cloud": {},
  "kernelspec": {
   "display_name": "Python [default]",
   "language": "python",
   "name": "python3"
  },
  "language_info": {
   "codemirror_mode": {
    "name": "ipython",
    "version": 3
   },
   "file_extension": ".py",
   "mimetype": "text/x-python",
   "name": "python",
   "nbconvert_exporter": "python",
   "pygments_lexer": "ipython3",
   "version": "3.5.2"
  }
 },
 "nbformat": 4,
 "nbformat_minor": 1
}
