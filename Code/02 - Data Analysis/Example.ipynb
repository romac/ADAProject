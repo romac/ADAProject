{
 "cells": [
  {
   "cell_type": "code",
   "execution_count": 1,
   "metadata": {
    "collapsed": false
   },
   "outputs": [],
   "source": [
    "%matplotlib inline\n",
    "\n",
    "import pandas as pd\n",
    "import itertools\n",
    "\n",
    "from utils import get_mongo_db"
   ]
  },
  {
   "cell_type": "markdown",
   "metadata": {},
   "source": [
    "Let's first get the MongoDB instance"
   ]
  },
  {
   "cell_type": "code",
   "execution_count": 2,
   "metadata": {
    "collapsed": false
   },
   "outputs": [
    {
     "name": "stdout",
     "output_type": "stream",
     "text": [
      "Connecting to MongoDB at localhost:27017...\n"
     ]
    }
   ],
   "source": [
    "db = get_mongo_db()"
   ]
  },
  {
   "cell_type": "markdown",
   "metadata": {},
   "source": [
    "Let's now compute the number of repositories per language (keeping in mind that the `repositories` collection contains both repositories owned by our Swiss users, but also any repository that they starred. It's thus a pretty big collection)."
   ]
  },
  {
   "cell_type": "code",
   "execution_count": 3,
   "metadata": {
    "collapsed": false
   },
   "outputs": [
    {
     "data": {
      "text/plain": [
       "200084"
      ]
     },
     "execution_count": 3,
     "metadata": {},
     "output_type": "execute_result"
    }
   ],
   "source": [
    "db.repositories.count()"
   ]
  },
  {
   "cell_type": "markdown",
   "metadata": {},
   "source": [
    "Let's first do the aggregation manually in Python:"
   ]
  },
  {
   "cell_type": "code",
   "execution_count": 4,
   "metadata": {
    "collapsed": false
   },
   "outputs": [
    {
     "data": {
      "text/plain": [
       "184059"
      ]
     },
     "execution_count": 4,
     "metadata": {},
     "output_type": "execute_result"
    }
   ],
   "source": [
    "repos = db.repositories.find({ 'language': { '$ne': None } }, { 'language': True })\n",
    "repos.count()"
   ]
  },
  {
   "cell_type": "code",
   "execution_count": 5,
   "metadata": {
    "collapsed": false
   },
   "outputs": [
    {
     "data": {
      "text/plain": [
       "{'_id': 24002363, 'language': 'JavaScript'}"
      ]
     },
     "execution_count": 5,
     "metadata": {},
     "output_type": "execute_result"
    }
   ],
   "source": [
    "repos[0]"
   ]
  },
  {
   "cell_type": "code",
   "execution_count": 6,
   "metadata": {
    "collapsed": false
   },
   "outputs": [],
   "source": [
    "counts = {}\n",
    "for repo in repos:\n",
    "    if repo['language'] not in counts:\n",
    "        counts[repo['language']] = 0\n",
    "    counts[repo['language']] += 1"
   ]
  },
  {
   "cell_type": "code",
   "execution_count": 7,
   "metadata": {
    "collapsed": false
   },
   "outputs": [
    {
     "data": {
      "text/html": [
       "<div>\n",
       "<table border=\"1\" class=\"dataframe\">\n",
       "  <thead>\n",
       "    <tr style=\"text-align: right;\">\n",
       "      <th></th>\n",
       "      <th>count</th>\n",
       "    </tr>\n",
       "    <tr>\n",
       "      <th>language</th>\n",
       "      <th></th>\n",
       "    </tr>\n",
       "  </thead>\n",
       "  <tbody>\n",
       "    <tr>\n",
       "      <th>JavaScript</th>\n",
       "      <td>39360</td>\n",
       "    </tr>\n",
       "    <tr>\n",
       "      <th>Python</th>\n",
       "      <td>21870</td>\n",
       "    </tr>\n",
       "    <tr>\n",
       "      <th>Java</th>\n",
       "      <td>14744</td>\n",
       "    </tr>\n",
       "    <tr>\n",
       "      <th>PHP</th>\n",
       "      <td>13973</td>\n",
       "    </tr>\n",
       "    <tr>\n",
       "      <th>Ruby</th>\n",
       "      <td>13830</td>\n",
       "    </tr>\n",
       "    <tr>\n",
       "      <th>C++</th>\n",
       "      <td>8832</td>\n",
       "    </tr>\n",
       "    <tr>\n",
       "      <th>C</th>\n",
       "      <td>8617</td>\n",
       "    </tr>\n",
       "    <tr>\n",
       "      <th>Shell</th>\n",
       "      <td>6544</td>\n",
       "    </tr>\n",
       "    <tr>\n",
       "      <th>Objective-C</th>\n",
       "      <td>6125</td>\n",
       "    </tr>\n",
       "    <tr>\n",
       "      <th>HTML</th>\n",
       "      <td>5186</td>\n",
       "    </tr>\n",
       "  </tbody>\n",
       "</table>\n",
       "</div>"
      ],
      "text/plain": [
       "             count\n",
       "language          \n",
       "JavaScript   39360\n",
       "Python       21870\n",
       "Java         14744\n",
       "PHP          13973\n",
       "Ruby         13830\n",
       "C++           8832\n",
       "C             8617\n",
       "Shell         6544\n",
       "Objective-C   6125\n",
       "HTML          5186"
      ]
     },
     "execution_count": 7,
     "metadata": {},
     "output_type": "execute_result"
    }
   ],
   "source": [
    "data = [{ 'language': lang, 'count': counts[lang] } for lang in counts]\n",
    "df = pd.DataFrame(data).set_index('language')\n",
    "df.sort_values(by='count', ascending=False)[0:10]"
   ]
  },
  {
   "cell_type": "code",
   "execution_count": 8,
   "metadata": {
    "collapsed": false
   },
   "outputs": [
    {
     "data": {
      "text/plain": [
       "<matplotlib.axes._subplots.AxesSubplot at 0x11da7f3c8>"
      ]
     },
     "execution_count": 8,
     "metadata": {},
     "output_type": "execute_result"
    },
    {
     "data": {
      "image/png": "[encoded data removed]",
      "text/plain": [
       "<matplotlib.figure.Figure at 0x11da7ff60>"
      ]
     },
     "metadata": {},
     "output_type": "display_data"
    }
   ],
   "source": [
    "df.sort_values(by='count', ascending=False)[0:10].plot(kind='bar')"
   ]
  },
  {
   "cell_type": "markdown",
   "metadata": {
    "collapsed": true
   },
   "source": [
    "Let's now use a potentially more efficient method, using MongoDB's aggregation framework:"
   ]
  },
  {
   "cell_type": "code",
   "execution_count": 9,
   "metadata": {
    "collapsed": true
   },
   "outputs": [],
   "source": [
    "from bson.son import SON"
   ]
  },
  {
   "cell_type": "code",
   "execution_count": 10,
   "metadata": {
    "collapsed": false
   },
   "outputs": [],
   "source": [
    "pipeline = [\n",
    "    {\n",
    "        '$match': {\n",
    "            'language': { '$ne': None }\n",
    "        }\n",
    "    },\n",
    "    {\n",
    "        '$group': {\n",
    "            '_id': '$language',\n",
    "            'count': { '$sum': 1 }\n",
    "        }\n",
    "    },\n",
    "    {\n",
    "        '$sort': SON([('count', -1), ('_id', -1)])\n",
    "    }\n",
    "]\n",
    "\n",
    "\n",
    "data = list(db.repositories.aggregate(pipeline))"
   ]
  },
  {
   "cell_type": "code",
   "execution_count": 11,
   "metadata": {
    "collapsed": false
   },
   "outputs": [
    {
     "data": {
      "text/html": [
       "<div>\n",
       "<table border=\"1\" class=\"dataframe\">\n",
       "  <thead>\n",
       "    <tr style=\"text-align: right;\">\n",
       "      <th></th>\n",
       "      <th>count</th>\n",
       "    </tr>\n",
       "    <tr>\n",
       "      <th>language</th>\n",
       "      <th></th>\n",
       "    </tr>\n",
       "  </thead>\n",
       "  <tbody>\n",
       "    <tr>\n",
       "      <th>JavaScript</th>\n",
       "      <td>39360</td>\n",
       "    </tr>\n",
       "    <tr>\n",
       "      <th>Python</th>\n",
       "      <td>21870</td>\n",
       "    </tr>\n",
       "    <tr>\n",
       "      <th>Java</th>\n",
       "      <td>14744</td>\n",
       "    </tr>\n",
       "    <tr>\n",
       "      <th>PHP</th>\n",
       "      <td>13973</td>\n",
       "    </tr>\n",
       "    <tr>\n",
       "      <th>Ruby</th>\n",
       "      <td>13830</td>\n",
       "    </tr>\n",
       "    <tr>\n",
       "      <th>C++</th>\n",
       "      <td>8832</td>\n",
       "    </tr>\n",
       "    <tr>\n",
       "      <th>C</th>\n",
       "      <td>8617</td>\n",
       "    </tr>\n",
       "    <tr>\n",
       "      <th>Shell</th>\n",
       "      <td>6544</td>\n",
       "    </tr>\n",
       "    <tr>\n",
       "      <th>Objective-C</th>\n",
       "      <td>6125</td>\n",
       "    </tr>\n",
       "    <tr>\n",
       "      <th>HTML</th>\n",
       "      <td>5186</td>\n",
       "    </tr>\n",
       "  </tbody>\n",
       "</table>\n",
       "</div>"
      ],
      "text/plain": [
       "             count\n",
       "language          \n",
       "JavaScript   39360\n",
       "Python       21870\n",
       "Java         14744\n",
       "PHP          13973\n",
       "Ruby         13830\n",
       "C++           8832\n",
       "C             8617\n",
       "Shell         6544\n",
       "Objective-C   6125\n",
       "HTML          5186"
      ]
     },
     "execution_count": 11,
     "metadata": {},
     "output_type": "execute_result"
    }
   ],
   "source": [
    "df = pd.DataFrame(data).rename(columns={ '_id': 'language' }).set_index('language')\n",
    "df.sort_values(by='count', ascending=False)[0:10]"
   ]
  },
  {
   "cell_type": "code",
   "execution_count": 12,
   "metadata": {
    "collapsed": false
   },
   "outputs": [
    {
     "data": {
      "text/plain": [
       "<matplotlib.axes._subplots.AxesSubplot at 0x119bc9828>"
      ]
     },
     "execution_count": 12,
     "metadata": {},
     "output_type": "execute_result"
    },
    {
     "data": {
      "image/png": "[encoded data removed]",
      "text/plain": [
       "<matplotlib.figure.Figure at 0x11da7fc18>"
      ]
     },
     "metadata": {},
     "output_type": "display_data"
    }
   ],
   "source": [
    "df.sort_values(by='count', ascending=False)[0:10].plot(kind='bar')"
   ]
  },
  {
   "cell_type": "markdown",
   "metadata": {},
   "source": [
    "Alright, let's now try to retrieve all the Swiss users and their repositories:"
   ]
  },
  {
   "cell_type": "code",
   "execution_count": 13,
   "metadata": {
    "collapsed": false
   },
   "outputs": [],
   "source": [
    "res = db.users.find({ 'in_ch': True, 'repositories': { '$ne': None } })\n",
    "\n",
    "users = []\n",
    "\n",
    "for user in res:\n",
    "    repos = db.repositories.find(\n",
    "        { '_id': { '$in': user['repositories'] } }\n",
    "    )\n",
    "    \n",
    "    users.append({\n",
    "        '_id': user['_id'],\n",
    "        'login': user['login'],\n",
    "        'name': user['name'],\n",
    "        'location': user['location'],\n",
    "        'repositories_docs': list(repos)\n",
    "    })"
   ]
  },
  {
   "cell_type": "code",
   "execution_count": 45,
   "metadata": {
    "collapsed": false
   },
   "outputs": [
    {
     "data": {
      "text/plain": [
       "3077"
      ]
     },
     "execution_count": 45,
     "metadata": {},
     "output_type": "execute_result"
    }
   ],
   "source": [
    "len(users)"
   ]
  },
  {
   "cell_type": "code",
   "execution_count": 17,
   "metadata": {
    "collapsed": false
   },
   "outputs": [
    {
     "data": {
      "text/plain": [
       "{'_id': 546522,\n",
       " 'clone_url': 'https://github.com/Seldaek/phergie.git',\n",
       " 'created_at': datetime.datetime(2010, 3, 4, 12, 46, 24),\n",
       " 'fork': True,\n",
       " 'forks_count': 1,\n",
       " 'full_name': 'Seldaek/phergie',\n",
       " 'has_downloads': False,\n",
       " 'has_issues': False,\n",
       " 'has_pages': False,\n",
       " 'homepage': 'http://phergie.org',\n",
       " 'language': 'PHP',\n",
       " 'name': 'phergie',\n",
       " 'open_issues': 0,\n",
       " 'open_issues_count': 0,\n",
       " 'owner_id': 183678,\n",
       " 'private': False,\n",
       " 'size': 324,\n",
       " 'stargazers_count': 3,\n",
       " 'watchers_count': 3}"
      ]
     },
     "execution_count": 17,
     "metadata": {},
     "output_type": "execute_result"
    }
   ],
   "source": [
    "users[1]['repositories_docs'][0]"
   ]
  },
  {
   "cell_type": "markdown",
   "metadata": {},
   "source": [
    "Let's now try using MongoDB's aggregation framework:"
   ]
  },
  {
   "cell_type": "code",
   "execution_count": 18,
   "metadata": {
    "collapsed": false
   },
   "outputs": [],
   "source": [
    "pipeline = [\n",
    "    {\n",
    "        '$match': { 'in_ch': True, 'repositories': { '$ne': None } }\n",
    "    },\n",
    "    {\n",
    "        '$lookup': {\n",
    "            'from': 'repositories',\n",
    "            'localField': '_id',\n",
    "            'foreignField': 'owner_id',\n",
    "            'as': 'repositories_docs'\n",
    "        }\n",
    "    },\n",
    "    {\n",
    "        '$project': {\n",
    "            'login': True,\n",
    "            'name': True,\n",
    "            'location': True,\n",
    "            'repositories_docs': True\n",
    "        }\n",
    "    }\n",
    "]\n",
    "\n",
    "data = list(db.users.aggregate(pipeline))"
   ]
  },
  {
   "cell_type": "code",
   "execution_count": 19,
   "metadata": {
    "collapsed": false
   },
   "outputs": [
    {
     "data": {
      "text/plain": [
       "5976"
      ]
     },
     "execution_count": 19,
     "metadata": {},
     "output_type": "execute_result"
    }
   ],
   "source": [
    "len(data)"
   ]
  },
  {
   "cell_type": "code",
   "execution_count": 21,
   "metadata": {
    "collapsed": false
   },
   "outputs": [
    {
     "data": {
      "text/plain": [
       "{'_id': 6427443,\n",
       " 'clone_url': 'https://github.com/Seldaek/ActivDevNoclineBundle.git',\n",
       " 'created_at': datetime.datetime(2012, 10, 28, 12, 50, 43),\n",
       " 'fork': True,\n",
       " 'forks_count': 0,\n",
       " 'full_name': 'Seldaek/ActivDevNoclineBundle',\n",
       " 'has_downloads': True,\n",
       " 'has_issues': False,\n",
       " 'has_pages': False,\n",
       " 'homepage': '',\n",
       " 'language': 'PHP',\n",
       " 'name': 'ActivDevNoclineBundle',\n",
       " 'open_issues': 0,\n",
       " 'open_issues_count': 0,\n",
       " 'owner_id': 183678,\n",
       " 'private': False,\n",
       " 'size': 182,\n",
       " 'stargazers_count': 4,\n",
       " 'watchers_count': 4}"
      ]
     },
     "execution_count": 21,
     "metadata": {},
     "output_type": "execute_result"
    }
   ],
   "source": [
    "data[1]['repositories_docs'][0]"
   ]
  },
  {
   "cell_type": "markdown",
   "metadata": {
    "collapsed": true
   },
   "source": [
    "We can now try to get the list of all the repositories owned by a Swiss user:"
   ]
  },
  {
   "cell_type": "code",
   "execution_count": 22,
   "metadata": {
    "collapsed": false
   },
   "outputs": [],
   "source": [
    "ch_users = db.users.find({ 'in_ch': True }, { '_id': True })\n",
    "ch_users_ids = [u['_id'] for u in ch_users]"
   ]
  },
  {
   "cell_type": "code",
   "execution_count": 23,
   "metadata": {
    "collapsed": true
   },
   "outputs": [],
   "source": [
    "pipeline = [\n",
    "    {\n",
    "        '$match': { 'owner_id': { '$in': ch_users_ids } }\n",
    "    }\n",
    "]\n",
    "\n",
    "data = list(db.repositories.aggregate(pipeline))"
   ]
  },
  {
   "cell_type": "code",
   "execution_count": 24,
   "metadata": {
    "collapsed": false
   },
   "outputs": [
    {
     "data": {
      "text/plain": [
       "98862"
      ]
     },
     "execution_count": 24,
     "metadata": {},
     "output_type": "execute_result"
    }
   ],
   "source": [
    "len(data)"
   ]
  },
  {
   "cell_type": "code",
   "execution_count": 25,
   "metadata": {
    "collapsed": false
   },
   "outputs": [
    {
     "data": {
      "text/plain": [
       "{'_id': 77803695,\n",
       " 'clone_url': 'https://github.com/octave/email_address.git',\n",
       " 'created_at': datetime.datetime(2017, 1, 2, 0, 55, 36),\n",
       " 'fork': True,\n",
       " 'forks_count': 0,\n",
       " 'full_name': 'octave/email_address',\n",
       " 'has_downloads': True,\n",
       " 'has_issues': False,\n",
       " 'has_pages': False,\n",
       " 'homepage': '',\n",
       " 'language': 'Ruby',\n",
       " 'name': 'email_address',\n",
       " 'open_issues': 0,\n",
       " 'open_issues_count': 0,\n",
       " 'owner_id': 343,\n",
       " 'private': False,\n",
       " 'size': 140,\n",
       " 'stargazers_count': 0,\n",
       " 'watchers_count': 0}"
      ]
     },
     "execution_count": 25,
     "metadata": {},
     "output_type": "execute_result"
    }
   ],
   "source": [
    "data[1]"
   ]
  },
  {
   "cell_type": "markdown",
   "metadata": {},
   "source": [
    "Alternatively:"
   ]
  },
  {
   "cell_type": "code",
   "execution_count": 26,
   "metadata": {
    "collapsed": false
   },
   "outputs": [
    {
     "data": {
      "text/plain": [
       "98862"
      ]
     },
     "execution_count": 26,
     "metadata": {},
     "output_type": "execute_result"
    }
   ],
   "source": [
    "pipeline = [\n",
    "    {\n",
    "        '$match': { 'in_ch': True, 'repositories': { '$ne': None } }\n",
    "    },\n",
    "    {\n",
    "        '$lookup': {\n",
    "            'from': 'repositories',\n",
    "            'localField': '_id',\n",
    "            'foreignField': 'owner_id',\n",
    "            'as': 'repositories_docs'\n",
    "        }\n",
    "    },\n",
    "    {\n",
    "        '$unwind': '$repositories_docs'\n",
    "    },\n",
    "    {\n",
    "        '$replaceRoot': { 'newRoot': '$repositories_docs' }\n",
    "    }\n",
    "]\n",
    "\n",
    "data = list(db.users.aggregate(pipeline))\n",
    "len(data)"
   ]
  },
  {
   "cell_type": "code",
   "execution_count": 27,
   "metadata": {
    "collapsed": false
   },
   "outputs": [
    {
     "data": {
      "text/plain": [
       "{'_id': 24002363,\n",
       " 'clone_url': 'https://github.com/vhf/absorb.git',\n",
       " 'created_at': datetime.datetime(2014, 9, 13, 18, 38, 2),\n",
       " 'fork': False,\n",
       " 'forks_count': 1,\n",
       " 'full_name': 'vhf/absorb',\n",
       " 'has_downloads': True,\n",
       " 'has_issues': True,\n",
       " 'has_pages': True,\n",
       " 'homepage': None,\n",
       " 'language': 'JavaScript',\n",
       " 'name': 'absorb',\n",
       " 'open_issues': 0,\n",
       " 'open_issues_count': 0,\n",
       " 'owner_id': 2022803,\n",
       " 'private': False,\n",
       " 'size': 5,\n",
       " 'stargazers_count': 1,\n",
       " 'watchers_count': 1}"
      ]
     },
     "execution_count": 27,
     "metadata": {},
     "output_type": "execute_result"
    }
   ],
   "source": [
    "data[0]"
   ]
  },
  {
   "cell_type": "markdown",
   "metadata": {},
   "source": [
    "For the record, the above aggregation query is available as a read-only view, called `ch_repositories_view`:"
   ]
  },
  {
   "cell_type": "code",
   "execution_count": 28,
   "metadata": {
    "collapsed": false
   },
   "outputs": [
    {
     "data": {
      "text/plain": [
       "98862"
      ]
     },
     "execution_count": 28,
     "metadata": {},
     "output_type": "execute_result"
    }
   ],
   "source": [
    "data = list(db.ch_repositories_view.find())\n",
    "len(data)"
   ]
  },
  {
   "cell_type": "code",
   "execution_count": 29,
   "metadata": {
    "collapsed": false
   },
   "outputs": [
    {
     "data": {
      "text/plain": [
       "{'_id': 24002363,\n",
       " 'clone_url': 'https://github.com/vhf/absorb.git',\n",
       " 'created_at': datetime.datetime(2014, 9, 13, 18, 38, 2),\n",
       " 'fork': False,\n",
       " 'forks_count': 1,\n",
       " 'full_name': 'vhf/absorb',\n",
       " 'has_downloads': True,\n",
       " 'has_issues': True,\n",
       " 'has_pages': True,\n",
       " 'homepage': None,\n",
       " 'language': 'JavaScript',\n",
       " 'name': 'absorb',\n",
       " 'open_issues': 0,\n",
       " 'open_issues_count': 0,\n",
       " 'owner_id': 2022803,\n",
       " 'private': False,\n",
       " 'size': 5,\n",
       " 'stargazers_count': 1,\n",
       " 'watchers_count': 1}"
      ]
     },
     "execution_count": 29,
     "metadata": {},
     "output_type": "execute_result"
    }
   ],
   "source": [
    "data[0]"
   ]
  },
  {
   "cell_type": "code",
   "execution_count": 30,
   "metadata": {
    "collapsed": true
   },
   "outputs": [],
   "source": [
    "data = list(db.users.find(\n",
    "    {'in_ch': True, 'location': { '$ne': None }, 'geocode': None },\n",
    "    { 'location': True }\n",
    "))"
   ]
  },
  {
   "cell_type": "code",
   "execution_count": 31,
   "metadata": {
    "collapsed": false
   },
   "outputs": [
    {
     "data": {
      "text/plain": [
       "35"
      ]
     },
     "execution_count": 31,
     "metadata": {},
     "output_type": "execute_result"
    }
   ],
   "source": [
    "len(data)"
   ]
  },
  {
   "cell_type": "code",
   "execution_count": 32,
   "metadata": {
    "collapsed": false
   },
   "outputs": [
    {
     "data": {
      "text/plain": [
       "{'_id': 756703, 'location': 'From GER, now in CH'}"
      ]
     },
     "execution_count": 32,
     "metadata": {},
     "output_type": "execute_result"
    }
   ],
   "source": [
    "data[0]"
   ]
  },
  {
   "cell_type": "code",
   "execution_count": 33,
   "metadata": {
    "collapsed": false
   },
   "outputs": [
    {
     "data": {
      "text/plain": [
       "35"
      ]
     },
     "execution_count": 33,
     "metadata": {},
     "output_type": "execute_result"
    }
   ],
   "source": [
    "locations = set([loc['location'] for loc in data])\n",
    "len(locations)"
   ]
  },
  {
   "cell_type": "code",
   "execution_count": 34,
   "metadata": {
    "collapsed": false
   },
   "outputs": [],
   "source": [
    "df = pd.DataFrame([{'location': loc} for loc in locations]).sort_values(by='location').reset_index()"
   ]
  },
  {
   "cell_type": "code",
   "execution_count": 35,
   "metadata": {
    "collapsed": false
   },
   "outputs": [
    {
     "data": {
      "text/html": [
       "<div>\n",
       "<table border=\"1\" class=\"dataframe\">\n",
       "  <thead>\n",
       "    <tr style=\"text-align: right;\">\n",
       "      <th></th>\n",
       "      <th>index</th>\n",
       "      <th>location</th>\n",
       "    </tr>\n",
       "  </thead>\n",
       "  <tbody>\n",
       "    <tr>\n",
       "      <th>0</th>\n",
       "      <td>3</td>\n",
       "      <td>/var/log/</td>\n",
       "    </tr>\n",
       "    <tr>\n",
       "      <th>1</th>\n",
       "      <td>21</td>\n",
       "      <td>5/23 VALMIKI ST EAST TAMBARAM CH-59</td>\n",
       "    </tr>\n",
       "    <tr>\n",
       "      <th>2</th>\n",
       "      <td>14</td>\n",
       "      <td>Bookspage</td>\n",
       "    </tr>\n",
       "    <tr>\n",
       "      <th>3</th>\n",
       "      <td>20</td>\n",
       "      <td>Bottighofen, CH &amp; Munich, DE &amp; Poznan, PL</td>\n",
       "    </tr>\n",
       "    <tr>\n",
       "      <th>4</th>\n",
       "      <td>15</td>\n",
       "      <td>CH GD SZ</td>\n",
       "    </tr>\n",
       "    <tr>\n",
       "      <th>5</th>\n",
       "      <td>11</td>\n",
       "      <td>D4 Business Center, Root Längenbold, CH-6037</td>\n",
       "    </tr>\n",
       "    <tr>\n",
       "      <th>6</th>\n",
       "      <td>28</td>\n",
       "      <td>Delaware, USA | Melbourne, AU | Zug, CH | Shan...</td>\n",
       "    </tr>\n",
       "    <tr>\n",
       "      <th>7</th>\n",
       "      <td>13</td>\n",
       "      <td>Espace Gruyère SA Rue de Vevey 136-144 Case po...</td>\n",
       "    </tr>\n",
       "    <tr>\n",
       "      <th>8</th>\n",
       "      <td>6</td>\n",
       "      <td>From GER, now in CH</td>\n",
       "    </tr>\n",
       "    <tr>\n",
       "      <th>9</th>\n",
       "      <td>10</td>\n",
       "      <td>HANGZHOU ZHEJIANG CH / CHICAGO, US</td>\n",
       "    </tr>\n",
       "    <tr>\n",
       "      <th>10</th>\n",
       "      <td>17</td>\n",
       "      <td>HZ,zj,CH</td>\n",
       "    </tr>\n",
       "    <tr>\n",
       "      <th>11</th>\n",
       "      <td>22</td>\n",
       "      <td>Location:</td>\n",
       "    </tr>\n",
       "    <tr>\n",
       "      <th>12</th>\n",
       "      <td>25</td>\n",
       "      <td>Milano - Como - Siderno (IT) | Chiasso (CH)</td>\n",
       "    </tr>\n",
       "    <tr>\n",
       "      <th>13</th>\n",
       "      <td>12</td>\n",
       "      <td>NP, HK, UK &amp; CH</td>\n",
       "    </tr>\n",
       "    <tr>\n",
       "      <th>14</th>\n",
       "      <td>8</td>\n",
       "      <td>NY, ON, CH, PB, SF</td>\n",
       "    </tr>\n",
       "    <tr>\n",
       "      <th>15</th>\n",
       "      <td>4</td>\n",
       "      <td>New York, New York</td>\n",
       "    </tr>\n",
       "    <tr>\n",
       "      <th>16</th>\n",
       "      <td>26</td>\n",
       "      <td>Novosibirsk RU, Winterthur CH</td>\n",
       "    </tr>\n",
       "    <tr>\n",
       "      <th>17</th>\n",
       "      <td>27</td>\n",
       "      <td>Platz 5, D4 Business Center, Root Längenbold, ...</td>\n",
       "    </tr>\n",
       "    <tr>\n",
       "      <th>18</th>\n",
       "      <td>32</td>\n",
       "      <td>SH. ZH</td>\n",
       "    </tr>\n",
       "    <tr>\n",
       "      <th>19</th>\n",
       "      <td>24</td>\n",
       "      <td>Schwellheim / CH</td>\n",
       "    </tr>\n",
       "    <tr>\n",
       "      <th>20</th>\n",
       "      <td>18</td>\n",
       "      <td>Skippbox</td>\n",
       "    </tr>\n",
       "    <tr>\n",
       "      <th>21</th>\n",
       "      <td>23</td>\n",
       "      <td>Trimbach</td>\n",
       "    </tr>\n",
       "    <tr>\n",
       "      <th>22</th>\n",
       "      <td>31</td>\n",
       "      <td>UTC+1</td>\n",
       "    </tr>\n",
       "    <tr>\n",
       "      <th>23</th>\n",
       "      <td>16</td>\n",
       "      <td>Villigen PSI</td>\n",
       "    </tr>\n",
       "    <tr>\n",
       "      <th>24</th>\n",
       "      <td>2</td>\n",
       "      <td>ZUST</td>\n",
       "    </tr>\n",
       "    <tr>\n",
       "      <th>25</th>\n",
       "      <td>9</td>\n",
       "      <td>http://127.0.0.1:8400</td>\n",
       "    </tr>\n",
       "    <tr>\n",
       "      <th>26</th>\n",
       "      <td>5</td>\n",
       "      <td>https://www.google.com/maps/place/H%E1%BB%93+C...</td>\n",
       "    </tr>\n",
       "    <tr>\n",
       "      <th>27</th>\n",
       "      <td>30</td>\n",
       "      <td>ici et ailleurs</td>\n",
       "    </tr>\n",
       "    <tr>\n",
       "      <th>28</th>\n",
       "      <td>7</td>\n",
       "      <td>mhmmm look the map on my website</td>\n",
       "    </tr>\n",
       "    <tr>\n",
       "      <th>29</th>\n",
       "      <td>29</td>\n",
       "      <td>mrliushenji-CH-CHENGDU</td>\n",
       "    </tr>\n",
       "    <tr>\n",
       "      <th>30</th>\n",
       "      <td>19</td>\n",
       "      <td>sz-js-ch</td>\n",
       "    </tr>\n",
       "    <tr>\n",
       "      <th>31</th>\n",
       "      <td>0</td>\n",
       "      <td>tai ch play cho dien thoai android</td>\n",
       "    </tr>\n",
       "    <tr>\n",
       "      <th>32</th>\n",
       "      <td>34</td>\n",
       "      <td>twitter.com/nickbalestra</td>\n",
       "    </tr>\n",
       "    <tr>\n",
       "      <th>33</th>\n",
       "      <td>1</td>\n",
       "      <td>✈</td>\n",
       "    </tr>\n",
       "    <tr>\n",
       "      <th>34</th>\n",
       "      <td>33</td>\n",
       "      <td>ⴲ</td>\n",
       "    </tr>\n",
       "  </tbody>\n",
       "</table>\n",
       "</div>"
      ],
      "text/plain": [
       "    index                                           location\n",
       "0       3                                          /var/log/\n",
       "1      21                5/23 VALMIKI ST EAST TAMBARAM CH-59\n",
       "2      14                                          Bookspage\n",
       "3      20          Bottighofen, CH & Munich, DE & Poznan, PL\n",
       "4      15                                           CH GD SZ\n",
       "5      11       D4 Business Center, Root Längenbold, CH-6037\n",
       "6      28  Delaware, USA | Melbourne, AU | Zug, CH | Shan...\n",
       "7      13  Espace Gruyère SA Rue de Vevey 136-144 Case po...\n",
       "8       6                                From GER, now in CH\n",
       "9      10                 HANGZHOU ZHEJIANG CH / CHICAGO, US\n",
       "10     17                                           HZ,zj,CH\n",
       "11     22                                          Location:\n",
       "12     25        Milano - Como - Siderno (IT) | Chiasso (CH)\n",
       "13     12                                    NP, HK, UK & CH\n",
       "14      8                                 NY, ON, CH, PB, SF\n",
       "15      4                                 New York, New York\n",
       "16     26                      Novosibirsk RU, Winterthur CH\n",
       "17     27  Platz 5, D4 Business Center, Root Längenbold, ...\n",
       "18     32                                             SH. ZH\n",
       "19     24                                   Schwellheim / CH\n",
       "20     18                                           Skippbox\n",
       "21     23                                           Trimbach\n",
       "22     31                                              UTC+1\n",
       "23     16                                       Villigen PSI\n",
       "24      2                                               ZUST\n",
       "25      9                              http://127.0.0.1:8400\n",
       "26      5  https://www.google.com/maps/place/H%E1%BB%93+C...\n",
       "27     30                                    ici et ailleurs\n",
       "28      7                   mhmmm look the map on my website\n",
       "29     29                             mrliushenji-CH-CHENGDU\n",
       "30     19                                           sz-js-ch\n",
       "31      0                 tai ch play cho dien thoai android\n",
       "32     34                           twitter.com/nickbalestra\n",
       "33      1                                                  ✈\n",
       "34     33                                                  ⴲ"
      ]
     },
     "execution_count": 35,
     "metadata": {},
     "output_type": "execute_result"
    }
   ],
   "source": [
    "df"
   ]
  },
  {
   "cell_type": "code",
   "execution_count": 36,
   "metadata": {
    "collapsed": false
   },
   "outputs": [],
   "source": [
    "data = db.users.find({ 'geocode.country': { '$ne': None } }, { 'geocode.country': True })"
   ]
  },
  {
   "cell_type": "code",
   "execution_count": 37,
   "metadata": {
    "collapsed": false
   },
   "outputs": [
    {
     "data": {
      "text/plain": [
       "5935"
      ]
     },
     "execution_count": 37,
     "metadata": {},
     "output_type": "execute_result"
    }
   ],
   "source": [
    "data.count()"
   ]
  },
  {
   "cell_type": "code",
   "execution_count": 38,
   "metadata": {
    "collapsed": true
   },
   "outputs": [],
   "source": [
    "countries = set([ x['geocode']['country'] for x in data ])"
   ]
  },
  {
   "cell_type": "code",
   "execution_count": 39,
   "metadata": {
    "collapsed": false
   },
   "outputs": [
    {
     "data": {
      "text/plain": [
       "{'124',\n",
       " 'AU',\n",
       " 'AZ',\n",
       " 'Australia',\n",
       " 'BE',\n",
       " 'BR',\n",
       " 'België - Belgique - Belgien',\n",
       " 'Bolivia',\n",
       " 'CA',\n",
       " 'CH',\n",
       " 'CN',\n",
       " 'CO',\n",
       " 'CZ',\n",
       " 'Canada',\n",
       " 'DE',\n",
       " 'DK',\n",
       " 'Danmark',\n",
       " 'Deutschland',\n",
       " 'EE',\n",
       " 'ES',\n",
       " 'El Salvador',\n",
       " 'España',\n",
       " 'FI',\n",
       " 'FR',\n",
       " 'France',\n",
       " 'GB',\n",
       " 'GR',\n",
       " 'HK',\n",
       " 'HU',\n",
       " 'IE',\n",
       " 'IT',\n",
       " 'India',\n",
       " 'Italia',\n",
       " 'JP',\n",
       " 'LT',\n",
       " 'Mauritanie موريتانيا',\n",
       " 'México',\n",
       " 'NL',\n",
       " 'NZ',\n",
       " 'Nederland',\n",
       " 'Norge',\n",
       " 'PT',\n",
       " 'Philippines',\n",
       " 'Polska',\n",
       " 'România',\n",
       " 'SA',\n",
       " 'SE',\n",
       " 'SZ',\n",
       " 'Schweiz, Suisse, Svizzera, Svizra',\n",
       " 'Singapore',\n",
       " 'Swaziland',\n",
       " 'TR',\n",
       " 'Türkiye',\n",
       " 'UA',\n",
       " 'UK',\n",
       " 'US',\n",
       " 'United States of America',\n",
       " 'Viti',\n",
       " 'Việt Nam',\n",
       " 'ZA',\n",
       " 'Österreich',\n",
       " 'Česko',\n",
       " 'Ελλάδα',\n",
       " 'РФ',\n",
       " 'Србија',\n",
       " 'Тоҷикистон',\n",
       " 'Україна',\n",
       " 'السعودية',\n",
       " 'ประเทศไทย',\n",
       " '中国',\n",
       " '日本'}"
      ]
     },
     "execution_count": 39,
     "metadata": {},
     "output_type": "execute_result"
    }
   ],
   "source": [
    "countries"
   ]
  },
  {
   "cell_type": "code",
   "execution_count": null,
   "metadata": {
    "collapsed": true
   },
   "outputs": [],
   "source": []
  }
 ],
 "metadata": {
  "anaconda-cloud": {},
  "kernelspec": {
   "display_name": "Python [Root]",
   "language": "python",
   "name": "Python [Root]"
  },
  "language_info": {
   "codemirror_mode": {
    "name": "ipython",
    "version": 3
   },
   "file_extension": ".py",
   "mimetype": "text/x-python",
   "name": "python",
   "nbconvert_exporter": "python",
   "pygments_lexer": "ipython3",
   "version": "3.5.2"
  }
 },
 "nbformat": 4,
 "nbformat_minor": 0
}
